{
 "cells": [
  {
   "cell_type": "code",
   "execution_count": 1,
   "metadata": {},
   "outputs": [],
   "source": [
    "# ------------------------------------------------------------------------------\n",
    "# Description:\n",
    "#\n",
    "#  The main program for cloud top height retrieval using two simultaneous \n",
    "#  GEO observations.\n",
    "#\n",
    "# Method:\n",
    "#\n",
    "# (1) Reads two GEO digital number.\n",
    "# (2) Slicing images and image remapping with KDTree.\n",
    "# (3) Image matching based on the NCC method.\n",
    "# (4) Cloud top height retrieval by the iterative process.\n",
    "# (5) Post-process cloud top height products.\n",
    "#\n",
    "# History:\n",
    "#\n",
    "# Version  Date      Comment\n",
    "# -------  ----      -------\n",
    "# 1.0      19/02/21  Original version.  Jonghyuk Lee (Yonsei Univ.)\n",
    "# 1.1      20/03/05  Change to Python.  Jonghyuk Lee (Yonsei Univ.)\n",
    "# \n",
    "#\n",
    "# References:\n",
    "#\n",
    "# (1) Hasler, 1981 \n",
    "#     Stereographic Observations from Geosynchronous Satellties:\n",
    "#     An Important New Tool for the Atmospheric Sciences.\n",
    "# (2) Wylie et al., 1998\n",
    "#     Cloud-Top Heights from GOES-8 and GOES-9 Stereoscopic Imagery.\n",
    "# (3) Seiz et al., 2007\n",
    "#     Multiview Cloud-Top Height and Wind Retrieval with Photogrammetric Method:\n",
    "#     Application to Meteosat-8 HRV Observations.\n",
    "# (4) Zaksek et al., 2013\n",
    "#     Monitoring volcanic ash cloud top height through simultaneous retrieval of\n",
    "#     optical data from polar orbiting and geostationary satellites.\n",
    "#\n",
    "#\n",
    "# Code Description:\n",
    "#   Language:      Python 3.8\n",
    "# \n",
    "# End of header ----------------------------------------------------------------                                "
   ]
  },
  {
   "cell_type": "markdown",
   "metadata": {},
   "source": [
    "## 알고리즘 준비"
   ]
  },
  {
   "cell_type": "markdown",
   "metadata": {},
   "source": [
    "1. Import required libraries"
   ]
  },
  {
   "cell_type": "code",
   "execution_count": 2,
   "metadata": {},
   "outputs": [],
   "source": [
    "# for importing my modules\n",
    "import sys\n",
    "sys.path.append('/sdata_storage/jhlee/JUPYTER/code_dev/module/')\n",
    "\n",
    "# for printing total time\n",
    "import time\n",
    "import cal_time\n",
    "\n",
    "# for reading datasets\n",
    "import read_satellite_data as read\n",
    "\n",
    "# for slicing datasets\n",
    "import slice_satellite_data as slice\n",
    "\n",
    "# for remapping (interpolating) datasets\n",
    "import remap_satellite_data as remap\n",
    "\n",
    "# for template matching\n",
    "import match_satellite_images as match\n",
    "\n",
    "# for array manipulation\n",
    "import numpy as np\n",
    "\n",
    "# for plotting images\n",
    "import matplotlib.pyplot as plt"
   ]
  },
  {
   "cell_type": "markdown",
   "metadata": {},
   "source": [
    "2. Input variables definition"
   ]
  },
  {
   "cell_type": "code",
   "execution_count": 3,
   "metadata": {},
   "outputs": [],
   "source": [
    "start_time = time.time()\n",
    "\n",
    "# 입력 파일 경로/날짜\n",
    "himawari8_path = '/storage1/jhlee/NMSC_2018/Himawari_8_AHI/'\n",
    "himawari8_date1 = '201711030530'\n",
    "himawari8_date2 = '201711030540'\n",
    "fy2e_path = '/storage1/jhlee/NMSC_2018/FY_2E_VISSR/'\n",
    "fy2e_date = '20171103_0530'\n",
    "\n",
    "# 목표 영역 정의\n",
    "left_upper_lat = 30. #32\n",
    "left_upper_lon = 116. #118\n",
    "right_lower_lat = 23. #23\n",
    "right_lower_lon = 127. #132\n",
    "\n",
    "# 최대 Shirt (for template matching)\n",
    "max_shift = 17"
   ]
  },
  {
   "cell_type": "markdown",
   "metadata": {},
   "source": [
    "## 알고리즘 시작"
   ]
  },
  {
   "cell_type": "markdown",
   "metadata": {},
   "source": [
    "1. 위성자료 읽기\n",
    " - Level 1B 위성 자료 읽기 (디지털 값)\n",
    " - 위/경도 자료 읽기\n",
    " - fy2e 구름 정보 읽기"
   ]
  },
  {
   "cell_type": "code",
   "execution_count": 4,
   "metadata": {},
   "outputs": [],
   "source": [
    "himawari8 = read.himawari8()\n",
    "fy2e = read.fy2e()\n",
    "\n",
    "# Level 1B 디지털 값 및 구름 정보\n",
    "himawari8_DN1 = himawari8.read_L1b(himawari8_path, himawari8_date1)\n",
    "himawari8_DN2 = himawari8.read_L1b(himawari8_path, himawari8_date2)\n",
    "fy2e_DN, fy2e_clc = fy2e.read_L1b(fy2e_path, fy2e_date)\n",
    "fy2e_clc.min(), fy2e_clc.max()\n",
    "\n",
    "# 위/경도 자료\n",
    "himawari8_lat, himawari8_lon = himawari8.read_latlon(himawari8_path)\n",
    "fy2e_lat, fy2e_lon = fy2e.read_latlon(fy2e_path)"
   ]
  },
  {
   "cell_type": "markdown",
   "metadata": {},
   "source": [
    "2. 위성자료 리매핑\n",
    " - 목표 영역 slicing\n",
    " - image remapping"
   ]
  },
  {
   "cell_type": "code",
   "execution_count": 5,
   "metadata": {},
   "outputs": [],
   "source": [
    "# Himawari-8 목표 영역 slicing (Himawari-8 영역은 조금 더 크게 한다.)\n",
    "cut_himawari8_DN1 = slice.cut_with_latlon_geos(himawari8_DN1, 'himawari8',\n",
    "                                               left_upper_lat + 7 , left_upper_lon - 7, \n",
    "                                               right_lower_lat - 7, right_lower_lon + 7)\n",
    "cut_himawari8_DN2 = slice.cut_with_latlon_geos(himawari8_DN2, 'himawari8', \n",
    "                                               left_upper_lat + 7 , left_upper_lon - 7, \n",
    "                                               right_lower_lat - 7, right_lower_lon + 7)\n",
    "cut_himawari8_lat = slice.cut_with_latlon_geos(himawari8_lat, 'himawari8', \n",
    "                                               left_upper_lat + 7 , left_upper_lon - 7,\n",
    "                                               right_lower_lat - 7, right_lower_lon + 7)\n",
    "cut_himawari8_lon = slice.cut_with_latlon_geos(himawari8_lon, 'himawari8', \n",
    "                                               left_upper_lat + 7 , left_upper_lon - 7,\n",
    "                                               right_lower_lat - 7, right_lower_lon + 7)\n",
    "\n",
    "# FY-2E 목표 영역 slicing\n",
    "cut_fy2e_DN = slice.cut_with_latlon_geos(fy2e_DN,'fy2e', \n",
    "                                         left_upper_lat + 1, left_upper_lon - 1, \n",
    "                                         right_lower_lat - 1, right_lower_lon + 1)\n",
    "cut_fy2e_lat = slice.cut_with_latlon_geos(fy2e_lat, 'fy2e', \n",
    "                                          left_upper_lat + 1, left_upper_lon - 1, \n",
    "                                          right_lower_lat - 1, right_lower_lon + 1)\n",
    "cut_fy2e_lon = slice.cut_with_latlon_geos(fy2e_lon, 'fy2e', \n",
    "                                          left_upper_lat + 1, left_upper_lon - 1, \n",
    "                                          right_lower_lat - 1, right_lower_lon + 1)\n",
    "cut_fy2e_clc = slice.cut_with_latlon_geos(fy2e_clc, 'fy2e', \n",
    "                                          left_upper_lat + 1, left_upper_lon - 1, \n",
    "                                          right_lower_lat - 1, right_lower_lon + 1)\n",
    "\n",
    "# Image remapping (inverse distance weighting with KDTree) : Himawari-8 -> FY-2E\n",
    "interp_himawari8_DN1 = remap.idw_cKDTree(cut_himawari8_lon, cut_himawari8_lat, cut_himawari8_DN1, \n",
    "                                         cut_fy2e_lon, cut_fy2e_lat)\n",
    "interp_himawari8_DN2 = remap.idw_cKDTree(cut_himawari8_lon, cut_himawari8_lat, cut_himawari8_DN2, \n",
    "                                         cut_fy2e_lon, cut_fy2e_lat)\n",
    "\n",
    "# 변수명 재정의 후 필요 없는 변수 메모리 삭제\n",
    "fy2e_DN = cut_fy2e_DN\n",
    "fy2e_lat = cut_fy2e_lat\n",
    "fy2e_lon = cut_fy2e_lon\n",
    "fy2e_clc = cut_fy2e_clc\n",
    "himawari8_DN1 = interp_himawari8_DN1\n",
    "himawari8_DN2 = interp_himawari8_DN2\n",
    "\n",
    "del(cut_fy2e_DN); del(cut_fy2e_lat); del(cut_fy2e_lon); del(cut_fy2e_clc); del(interp_himawari8_DN1); del(interp_himawari8_DN2)\n",
    "del(cut_himawari8_DN1); del(cut_himawari8_DN2); del(cut_himawari8_lat); del(cut_himawari8_lon)\n",
    "del(himawari8_lat); del(himawari8_lon)"
   ]
  },
  {
   "cell_type": "markdown",
   "metadata": {},
   "source": [
    "3. 위성 이미지 매칭\n",
    " - template matching"
   ]
  },
  {
   "cell_type": "code",
   "execution_count": 6,
   "metadata": {},
   "outputs": [
    {
     "name": "stdout",
     "output_type": "stream",
     "text": [
      "total time : 0 hr 6 min 26 sec.\n"
     ]
    }
   ],
   "source": [
    "result1, result2 = match.match_templates(fy2e_DN, himawari8_DN1, himawari8_DN2, fy2e_clc, max_shift)\n",
    "\n",
    "end_time = time.time()\n",
    "cal_time.print_tot_time(start_time, end_time)"
   ]
  }
 ],
 "metadata": {
  "kernelspec": {
   "display_name": "Python [conda env:JUPYTER] *",
   "language": "python",
   "name": "conda-env-JUPYTER-py"
  },
  "language_info": {
   "codemirror_mode": {
    "name": "ipython",
    "version": 3
   },
   "file_extension": ".py",
   "mimetype": "text/x-python",
   "name": "python",
   "nbconvert_exporter": "python",
   "pygments_lexer": "ipython3",
   "version": "3.8.1"
  }
 },
 "nbformat": 4,
 "nbformat_minor": 4
}
