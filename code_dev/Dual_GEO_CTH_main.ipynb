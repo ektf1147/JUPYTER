{
 "cells": [
  {
   "cell_type": "code",
   "execution_count": 1,
   "metadata": {},
   "outputs": [],
   "source": [
    "# ------------------------------------------------------------------------------\n",
    "# Description:\n",
    "#\n",
    "#  The main program for cloud top height retrieval using two simultaneous \n",
    "#  GEO observations.\n",
    "#\n",
    "# Method:\n",
    "#\n",
    "# (1) Reads two GEO digital number.\n",
    "# (2) Selects cloud target and slice images.\n",
    "# (3) Image matching based on the NCC method.\n",
    "# (4) Cloud top height retrieval by the iterative process.\n",
    "# (5) Post-process cloud top height products.\n",
    "#\n",
    "# History:\n",
    "#\n",
    "# Version  Date      Comment\n",
    "# -------  ----      -------\n",
    "# 1.0      19/02/21  Original version.  Jonghyuk Lee (Yonsei Univ.)\n",
    "# 1.1      20/03/05  Change to Python.  Jonghyuk Lee (Yonsei Univ.)\n",
    "# \n",
    "#\n",
    "# References:\n",
    "#\n",
    "# (1) Hasler, 1981 \n",
    "#     Stereographic Observations from Geosynchronous Satellties:\n",
    "#     An Important New Tool for the Atmospheric Sciences.\n",
    "# (2) Wylie et al., 1998\n",
    "#     Cloud-Top Heights from GOES-8 and GOES-9 Stereoscopic Imagery.\n",
    "# (3) Seiz et al., 2007\n",
    "#     Multiview Cloud-Top Height and Wind Retrieval with Photogrammetric Method:\n",
    "#     Application to Meteosat-8 HRV Observations.\n",
    "# (4) Zaksek et al., 2013\n",
    "#     Monitoring volcanic ash cloud top height through simultaneous retrieval of\n",
    "#     optical data from polar orbiting and geostationary satellites.\n",
    "#\n",
    "#\n",
    "# Code Description:\n",
    "#   Language:      Python 3.8\n",
    "# \n",
    "# End of header ----------------------------------------------------------------                                "
   ]
  },
  {
   "cell_type": "markdown",
   "metadata": {},
   "source": [
    "## 알고리즘 준비"
   ]
  },
  {
   "cell_type": "markdown",
   "metadata": {},
   "source": [
    "1. 필요한 라이브러리 불러오기"
   ]
  },
  {
   "cell_type": "code",
   "execution_count": 2,
   "metadata": {},
   "outputs": [],
   "source": [
    "import sys\n",
    "sys.path.append('/sdata_storage/jhlee/JUPYTER/code_dev/module/')\n",
    "import numpy as np\n",
    "import read_satellite_data as read\n",
    "import slice_satellite_data as slice\n",
    "import remap_satellite_data as remap\n",
    "import matplotlib.pyplot as plt"
   ]
  },
  {
   "cell_type": "markdown",
   "metadata": {},
   "source": [
    "2. 입력 변수 정의"
   ]
  },
  {
   "cell_type": "code",
   "execution_count": 3,
   "metadata": {},
   "outputs": [],
   "source": [
    "# 입력 파일 경로/날짜\n",
    "himawari8_path = '/storage1/jhlee/NMSC_2018/Himawari_8_AHI/'\n",
    "himawari8_date1 = '201711030530'\n",
    "himawari8_date2 = '201711030540'\n",
    "fy2e_path = '/storage1/jhlee/NMSC_2018/FY_2E_VISSR/'\n",
    "fy2e_date = '20171103_0530'\n",
    "\n",
    "# 목표 영역 정의\n",
    "left_upper_lat = 30.\n",
    "left_upper_lon = 116.\n",
    "right_lower_lat = 23.\n",
    "right_lower_lon = 127."
   ]
  },
  {
   "cell_type": "markdown",
   "metadata": {},
   "source": [
    "## 알고리즘 시작"
   ]
  },
  {
   "cell_type": "markdown",
   "metadata": {},
   "source": [
    "1. 위성자료 읽기\n",
    " - Level 1B 위성 자료 읽기 (디지털 값)\n",
    " - 위/경도 자료 읽기\n",
    " - fy2e 구름 정보 읽기"
   ]
  },
  {
   "cell_type": "code",
   "execution_count": 4,
   "metadata": {},
   "outputs": [],
   "source": [
    "himawari8 = read.himawari8()\n",
    "fy2e = read.fy2e()\n",
    "\n",
    "# Level 1B 디지털 값\n",
    "himawari8_DN1 = himawari8.read_L1b(himawari8_path, himawari8_date1)\n",
    "himawari8_DN2 = himawari8.read_L1b(himawari8_path, himawari8_date2)\n",
    "fy2e_DN, fy2e_clc = fy2e.read_L1b(fy2e_path, fy2e_date)\n",
    "\n",
    "\n",
    "# 위/경도 자료\n",
    "himawari8_lat, himawari8_lon = himawari8.read_latlon(himawari8_path)\n",
    "fy2e_lat, fy2e_lon = fy2e.read_latlon(fy2e_path)"
   ]
  },
  {
   "cell_type": "markdown",
   "metadata": {},
   "source": [
    "2. 위성자료 리매핑\n",
    " - 목표 영역 slicing\n",
    " - image sliceping"
   ]
  },
  {
   "cell_type": "code",
   "execution_count": 5,
   "metadata": {},
   "outputs": [],
   "source": [
    "# Himawari8 목표 영역 slicing (Himawari8 영역은 조금 더 크게 한다.)\n",
    "cut_himawari8_DN1 = slice.cut_with_latlon_geos(himawari8_DN1, 'himawari8',\n",
    "                                               left_upper_lat + 3 , left_upper_lon - 3, \n",
    "                                               right_lower_lat - 3, right_lower_lon + 3)\n",
    "cut_himawari8_DN2 = slice.cut_with_latlon_geos(himawari8_DN2, 'himawari8', \n",
    "                                               left_upper_lat + 3 , left_upper_lon - 3, \n",
    "                                               right_lower_lat - 3, right_lower_lon + 3)\n",
    "cut_himawari8_lat = slice.cut_with_latlon_geos(himawari8_lat, 'himawari8', \n",
    "                                               left_upper_lat + 3 , left_upper_lon - 3,\n",
    "                                               right_lower_lat - 3, right_lower_lon + 3)\n",
    "cut_himawari8_lon = slice.cut_with_latlon_geos(himawari8_lon, 'himawari8', \n",
    "                                               left_upper_lat + 3 , left_upper_lon - 3,\n",
    "                                               right_lower_lat - 3, right_lower_lon + 3)\n",
    "\n",
    "# FY-2E 목표 영역 slicing\n",
    "cut_fy2e_DN = slice.cut_with_latlon_geos(fy2e_DN,'fy2e', \n",
    "                                         left_upper_lat + 1, left_upper_lon - 1, \n",
    "                                         right_lower_lat - 1, right_lower_lon + 1)\n",
    "cut_fy2e_lat = slice.cut_with_latlon_geos(fy2e_lat, 'fy2e', \n",
    "                                          left_upper_lat + 1, left_upper_lon - 1, \n",
    "                                          right_lower_lat - 1, right_lower_lon + 1)\n",
    "cut_fy2e_lon = slice.cut_with_latlon_geos(fy2e_lon, 'fy2e', \n",
    "                                          left_upper_lat + 1, left_upper_lon - 1, \n",
    "                                          right_lower_lat - 1, right_lower_lon + 1)\n",
    "\n",
    "# 필요없는 변수 메모리 삭제\n",
    "del(himawari8_DN1); del(himawari8_DN2); del(himawari8_lat); del(himawari8_lon)\n",
    "del(fy2e_DN); del(fy2e_lat); del(fy2e_lon)"
   ]
  },
  {
   "cell_type": "markdown",
   "metadata": {},
   "source": [
    "## remap (inverse distance weighting test)"
   ]
  },
  {
   "cell_type": "code",
   "execution_count": 6,
   "metadata": {},
   "outputs": [],
   "source": [
    "x = [-47.6, -48.9, -48.2, -48.9, -47.6, -48.6]\n",
    "y = [-23.4, -24.0, -23.9, -23.1, -22.7, -22.5]\n",
    "z = [27.0,  33.4,  34.6,  18.2,   30.8, 42.8]"
   ]
  },
  {
   "cell_type": "code",
   "execution_count": 7,
   "metadata": {},
   "outputs": [],
   "source": [
    "xi = [-48.0530600]\n",
    "yi = [-23.5916700]"
   ]
  },
  {
   "cell_type": "code",
   "execution_count": 8,
   "metadata": {},
   "outputs": [
    {
     "data": {
      "text/plain": [
       "[[-48.05306, -23.59167, 32.549720867463115]]"
      ]
     },
     "execution_count": 8,
     "metadata": {},
     "output_type": "execute_result"
    }
   ],
   "source": [
    "remap.idwr(x,y,z,xi,yi)"
   ]
  },
  {
   "cell_type": "code",
   "execution_count": 10,
   "metadata": {},
   "outputs": [
    {
     "data": {
      "image/png": "[encoded data removed]",
      "text/plain": [
       "<Figure size 432x288 with 1 Axes>"
      ]
     },
     "metadata": {},
     "output_type": "display_data"
    }
   ],
   "source": [
    "import matplotlib.pyplot as plt\n",
    "import matplotlib.style as style\n",
    "style.available\n",
    "style.use('seaborn-white')\n",
    "dists = [50.93664088924365, 97.50798854810864, 37.44644402279387, 102.4130216426453, 109.55825855482198, 133.81580425549404]\n",
    "len(dists)\n",
    "for i in range(len(x)):\n",
    "    plt.scatter(x = x[i],\n",
    "                y = y[i],\n",
    "                s = 50)\n",
    "    plt.annotate(xy = (x[i],y[i]),      \n",
    "                 s=z[i])\n",
    "    plt.annotate(xy = ( ((x[i] + xi[0]) / 2), ((y[i] + yi[0]) / 2)),      \n",
    "                 s= 'dist='+ str(np.round(dists[i],2))+ ' km')\n",
    "    lcx = [xi[0], x[i]]\n",
    "    lcy = [yi[0], y[i]]\n",
    "    plt.plot(lcx,lcy)    \n",
    "plt.scatter(xi,yi,\n",
    "            c='black', s=230, label='unknown', marker='*')\n",
    "plt.legend(bbox_to_anchor=(1.04,1), loc=\"upper left\")\n",
    "plt.tight_layout()\n",
    "plt.grid(True)\n",
    "plt.show()"
   ]
  },
  {
   "cell_type": "code",
   "execution_count": null,
   "metadata": {},
   "outputs": [],
   "source": []
  }
 ],
 "metadata": {
  "kernelspec": {
   "display_name": "Python [conda env:JUPYTER] *",
   "language": "python",
   "name": "conda-env-JUPYTER-py"
  },
  "language_info": {
   "codemirror_mode": {
    "name": "ipython",
    "version": 3
   },
   "file_extension": ".py",
   "mimetype": "text/x-python",
   "name": "python",
   "nbconvert_exporter": "python",
   "pygments_lexer": "ipython3",
   "version": "3.8.1"
  }
 },
 "nbformat": 4,
 "nbformat_minor": 4
}
