{
 "cells": [
  {
   "cell_type": "code",
   "execution_count": 3,
   "metadata": {},
   "outputs": [],
   "source": [
    "# ------------------------------------------------------------------------------\n",
    "# Description:\n",
    "#\n",
    "#  The main program for cloud top height retrieval using two simultaneous \n",
    "#  GEO observations.\n",
    "#\n",
    "# Method:\n",
    "#\n",
    "# (1) Reads two GEO digital number.\n",
    "# (2) Selects cloud target and remap images.\n",
    "# (3) Image matching based on the NCC method.\n",
    "# (4) Cloud top height retrieval by the iterative process.\n",
    "# (5) Post-process cloud top height products.\n",
    "#\n",
    "# History:\n",
    "#\n",
    "# Version  Date      Comment\n",
    "# -------  ----      -------\n",
    "# 1.0      19/02/21  Original version.  Jonghyuk Lee (Yonsei Univ.)\n",
    "# 1.1      20/03/05  Change to Python.  Jonghyuk Lee (Yonsei Univ.)\n",
    "# \n",
    "#\n",
    "# References:\n",
    "#\n",
    "# (1) Hasler, 1981 \n",
    "#     Stereographic Observations from Geosynchronous Satellties:\n",
    "#     An Important New Tool for the Atmospheric Sciences.\n",
    "# (2) Wylie et al., 1998\n",
    "#     Cloud-Top Heights from GOES-8 and GOES-9 Stereoscopic Imagery.\n",
    "# (3) Seiz et al., 2007\n",
    "#     Multiview Cloud-Top Height and Wind Retrieval with Photogrammetric Method:\n",
    "#     Application to Meteosat-8 HRV Observations.\n",
    "# (4) Zaksek et al., 2013\n",
    "#     Monitoring volcanic ash cloud top height through simultaneous retrieval of\n",
    "#     optical data from polar orbiting and geostationary satellites.\n",
    "#\n",
    "#\n",
    "# Code Description:\n",
    "#   Language:      Python 3.8\n",
    "# \n",
    "# End of header ----------------------------------------------------------------                                "
   ]
  },
  {
   "cell_type": "code",
   "execution_count": 2,
   "metadata": {},
   "outputs": [],
   "source": [
    "import numpy as np"
   ]
  },
  {
   "cell_type": "code",
   "execution_count": null,
   "metadata": {},
   "outputs": [],
   "source": []
  }
 ],
 "metadata": {
  "kernelspec": {
   "display_name": "Python [conda env:JUPYTER] *",
   "language": "python",
   "name": "conda-env-JUPYTER-py"
  },
  "language_info": {
   "codemirror_mode": {
    "name": "ipython",
    "version": 3
   },
   "file_extension": ".py",
   "mimetype": "text/x-python",
   "name": "python",
   "nbconvert_exporter": "python",
   "pygments_lexer": "ipython3",
   "version": "3.8.1"
  }
 },
 "nbformat": 4,
 "nbformat_minor": 4
}
