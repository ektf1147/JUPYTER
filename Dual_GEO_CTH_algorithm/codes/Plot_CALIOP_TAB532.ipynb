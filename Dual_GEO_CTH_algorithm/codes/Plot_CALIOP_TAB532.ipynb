{
 "cells": [
  {
   "cell_type": "code",
   "execution_count": 39,
   "metadata": {},
   "outputs": [
    {
     "name": "stdout",
     "output_type": "stream",
     "text": [
      "-9999.0\n",
      "3.9413865\n"
     ]
    }
   ],
   "source": [
    "from pyhdf.SD import SD, SDC\n",
    "import matplotlib.pyplot as plt\n",
    "import numpy as np\n",
    "\n",
    "dir = '/storage1/jhlee/NMSC_2018/Caliop/'\n",
    "FILE_NAME = dir + 'CAL_LID_L1-Standard-V4-10.2017-11-03T04-35-45ZD.hdf'\n",
    "\n",
    "# Identify the data field.\n",
    "DATAFIELD_NAME = 'Total_Attenuated_Backscatter_532'\n",
    "hdf = SD(FILE_NAME, SDC.READ)\n",
    "\n",
    "# Read dataset.\n",
    "TAB_532 = hdf.select(DATAFIELD_NAME)\n",
    "tab_532 = TAB_532[:,:]\n",
    "\n",
    "# Read geolocation datasets.\n",
    "latitude = hdf.select('Latitude')\n",
    "lat = latitude[:]\n",
    "\n",
    "#"
   ]
  },
  {
   "cell_type": "code",
   "execution_count": null,
   "metadata": {},
   "outputs": [],
   "source": []
  }
 ],
 "metadata": {
  "kernelspec": {
   "display_name": "Python [conda env:JUPYTER] *",
   "language": "python",
   "name": "conda-env-JUPYTER-py"
  },
  "language_info": {
   "codemirror_mode": {
    "name": "ipython",
    "version": 3
   },
   "file_extension": ".py",
   "mimetype": "text/x-python",
   "name": "python",
   "nbconvert_exporter": "python",
   "pygments_lexer": "ipython3",
   "version": "3.8.1"
  }
 },
 "nbformat": 4,
 "nbformat_minor": 4
}
