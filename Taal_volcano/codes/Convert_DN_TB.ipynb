{
 "cells": [
  {
   "cell_type": "code",
   "execution_count": 6,
   "metadata": {
    "scrolled": true
   },
   "outputs": [
    {
     "name": "stdout",
     "output_type": "stream",
     "text": [
      "-0.4790498548965729\n"
     ]
    },
    {
     "data": {
      "image/png": "[encoded data removed]",
      "text/plain": [
       "<Figure size 288x288 with 1 Axes>"
      ]
     },
     "metadata": {
      "needs_background": "light"
     },
     "output_type": "display_data"
    }
   ],
   "source": [
    "# Convert digital number to TBs.\n",
    "# Reference : ncc.nesdis.noaa.gov/data/planck.html\n",
    "import numpy as np\n",
    "import matplotlib.pyplot as plt\n",
    "from netCDF4 import Dataset\n",
    "\n",
    "\n",
    "# 1. Calculate FY-4A TBs\n",
    "dir = '/storage1/jhlee/NMSC_2018/FY_4A_AGRI/'\n",
    "fname = dir + 'FY4A-_AGRI--_N_DISK_1047E_L1-_FDI-_MULT_NOM_20200112170000_20200112171459_4000M_V0001.HDF'\n",
    "f = Dataset(fname, 'r')\n",
    "tb_coff = f.variables['CALIBRATION_COEF(SCALE+OFFSET)'][:]\n",
    "\n",
    "scale_11  = tb_coff[11][0]\n",
    "offset_11 = tb_coff[11][1]\n",
    "lamda_11  = 10.8\n",
    "\n",
    "scale_12  = tb_coff[12][0]\n",
    "offset_12 = tb_coff[12][1]\n",
    "lamda_12  = 12.0\n",
    "\n",
    "dn = np.arange(4096) # DN is 0 to 4095\n",
    "\n",
    "\n",
    "# 1.1. Convert DN to radiance\n",
    "rad_11 = scale_11 * dn + offset_11\n",
    "rad_12 = scale_12 * dn + offset_12\n",
    "\n",
    "\n",
    "\n",
    "# Convert radiance to TBs\n",
    "#                         c2\n",
    "# T =  -------------------------------------\n",
    "#      lamda * ln(c1/lamda^5 * radiance + 1) \n",
    "\n",
    "c1 = 1.191042E08  # W/m2-sr-um-4\n",
    "c2 = 1.4387752E04 # K/um\n",
    "\n",
    "tb_11 = c2 / ( lamda_11 * np.log( c1/(rad_11 * lamda_11 **5) + 1.) )\n",
    "tb_12 = c2 / ( lamda_12 * np.log( c1/(rad_12 * lamda_12 **5) + 1.) )\n",
    "\n",
    "\n",
    "\n",
    "# 2. Read FY-4A Calibration table\n",
    "tb_11_ref = f.variables['CALChannel12'][:]\n",
    "tb_12_ref = f.variables['CALChannel13'][:]\n",
    "\n",
    "\n",
    "\n",
    "# 3. Plot TBs\n",
    "fig = plt.figure(figsize=(4,4))\n",
    "\n",
    "diff_tb_11 = tb_11 - tb_11_ref\n",
    "diff_tb_12 = tb_12 - tb_12_ref\n",
    "\n",
    "\n",
    "plt.plot(diff_tb_11, label = 'tb 11')\n",
    "plt.plot(diff_tb_12, label = 'tb 12')\n",
    "\n",
    "\n",
    "plt.show()\n",
    "#plt.savefig('../plots/brightness_temperature_with_dn.png', dpi=300)"
   ]
  },
  {
   "cell_type": "code",
   "execution_count": null,
   "metadata": {},
   "outputs": [],
   "source": []
  },
  {
   "cell_type": "code",
   "execution_count": null,
   "metadata": {},
   "outputs": [],
   "source": []
  }
 ],
 "metadata": {
  "kernelspec": {
   "display_name": "Python [conda env:JUPYTER] *",
   "language": "python",
   "name": "conda-env-JUPYTER-py"
  },
  "language_info": {
   "codemirror_mode": {
    "name": "ipython",
    "version": 3
   },
   "file_extension": ".py",
   "mimetype": "text/x-python",
   "name": "python",
   "nbconvert_exporter": "python",
   "pygments_lexer": "ipython3",
   "version": "3.8.1"
  }
 },
 "nbformat": 4,
 "nbformat_minor": 4
}
