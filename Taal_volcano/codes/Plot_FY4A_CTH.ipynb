{
 "cells": [
  {
   "cell_type": "code",
   "execution_count": 13,
   "metadata": {},
   "outputs": [
    {
     "ename": "ModuleNotFoundError",
     "evalue": "No module named 'celluloid'",
     "output_type": "error",
     "traceback": [
      "\u001b[0;31m---------------------------------------------------------------------------\u001b[0m",
      "\u001b[0;31mModuleNotFoundError\u001b[0m                       Traceback (most recent call last)",
      "\u001b[0;32m<ipython-input-13-80db0935d779>\u001b[0m in \u001b[0;36m<module>\u001b[0;34m\u001b[0m\n\u001b[1;32m      6\u001b[0m \u001b[0;32mimport\u001b[0m \u001b[0mmatplotlib\u001b[0m\u001b[0;34m.\u001b[0m\u001b[0mpyplot\u001b[0m \u001b[0;32mas\u001b[0m \u001b[0mplt\u001b[0m\u001b[0;34m\u001b[0m\u001b[0;34m\u001b[0m\u001b[0m\n\u001b[1;32m      7\u001b[0m \u001b[0;32mimport\u001b[0m \u001b[0mnumpy\u001b[0m \u001b[0;32mas\u001b[0m \u001b[0mnp\u001b[0m\u001b[0;34m\u001b[0m\u001b[0;34m\u001b[0m\u001b[0m\n\u001b[0;32m----> 8\u001b[0;31m \u001b[0;32mimport\u001b[0m \u001b[0mcelluloid\u001b[0m\u001b[0;34m\u001b[0m\u001b[0;34m\u001b[0m\u001b[0m\n\u001b[0m\u001b[1;32m      9\u001b[0m \u001b[0;34m\u001b[0m\u001b[0m\n\u001b[1;32m     10\u001b[0m \u001b[0;31m# Read FY-4A CTHs (4 km resolution)\u001b[0m\u001b[0;34m\u001b[0m\u001b[0;34m\u001b[0m\u001b[0;34m\u001b[0m\u001b[0m\n",
      "\u001b[0;31mModuleNotFoundError\u001b[0m: No module named 'celluloid'"
     ]
    }
   ],
   "source": [
    "# To plot FY-4A CTHs by jhlee\n",
    "import os\n",
    "os.environ['PROJ_LIB']='/home/jhlee/anaconda3/envs/JUPYTER/share/proj'\n",
    "from mpl_toolkits.basemap import Basemap, cm\n",
    "from netCDF4 import Dataset\n",
    "import matplotlib.pyplot as plt\n",
    "import numpy as np\n",
    "\n",
    "# Read FY-4A CTHs (4 km resolution)\n",
    "hr = ['05','06','07','08','09','10','11','12','13','14','15','16','17','18','19','20','21','22','23']\n",
    "#hr = ['00','01','02','03']\n",
    "for i in hr:\n",
    "    dir = '/storage1/jhlee/NMSC_2018/FY_4A_AGRI/'\n",
    "    year = '2020'\n",
    "    month = '01'\n",
    "    day = '12'\n",
    "    hour = i\n",
    "    sttime = year + month + day + hour\n",
    "    fname = dir + 'FY4A-_AGRI--_N_DISK_1047E_L2-_CTH-_MULT_NOM_'+sttime+'0000_'+sttime+'1459_4000M_V0001.NC'\n",
    "    f = Dataset(fname, 'r')\n",
    "    cth = f.variables['CTH'][:]/1000.\n",
    "\n",
    "\n",
    "# Read FY-4A lat/lon file\n",
    "    f = Dataset('/storage1/jhlee/NMSC_2018/FY_4A_AGRI/LatLon_4000m.nc', 'r')\n",
    "    lat = f.variables['Latitude']\n",
    "    lon = f.variables['Longitude']\n",
    "\n",
    "\n",
    "# Plot FY-4A CTHs\n",
    "    plt.figure(figsize=(8,8))\n",
    "    llcrnrlat = 10#12\n",
    "    urcrnrlat = 30#21\n",
    "    llcrnrlon = 115#118\n",
    "    urcrnrlon = 135#125\n",
    "\n",
    "    plt.rcParams.update({'font.size': 13})\n",
    "\n",
    "\n",
    "    map = Basemap(projection='cyl', llcrnrlat= llcrnrlat, urcrnrlat = urcrnrlat,\\\n",
    "                  llcrnrlon = llcrnrlon, urcrnrlon = urcrnrlon, resolution = 'l')\n",
    "\n",
    "    x, y = map(lon, lat)\n",
    "\n",
    "# Taal volcano position\n",
    "    xi, yi = map(121, 14)\n",
    "    map.plot(xi, yi, 'm^', markersize=13)\n",
    "\n",
    "    cs = map.pcolormesh(x,y,cth, shading='flat', cmap=plt.cm.jet)\n",
    "    map.drawcoastlines(linewidth=2)\n",
    "\n",
    "    map.drawparallels(np.arange(llcrnrlat,urcrnrlat+1,5.), labels=[True,False,False,False], color='white', linewidth=3.0)\n",
    "    map.drawmeridians(np.arange(llcrnrlon,urcrnrlon+1,5.), labels=[False,False,False,True], color='white', linewidth=3.0)\n",
    "\n",
    "    cb = map.colorbar(cs, \"right\")\n",
    "    plt.clim(0,20)\n",
    "\n",
    "# show result plot\n",
    "    minval = np.min(cth)\n",
    "    maxval = np.max(cth)\n",
    "    plt.title('FY-4A cloud top height [km] (%s.%s.%s, %s00 UTC)' %(year, month, day, hour))\n",
    "    plt.savefig('../plots/FY4A_CTH/FY4A_CTH_'+sttime+'0000.png', dpi=300)\n",
    "    plt.show()"
   ]
  },
  {
   "cell_type": "code",
   "execution_count": null,
   "metadata": {},
   "outputs": [],
   "source": []
  },
  {
   "cell_type": "code",
   "execution_count": null,
   "metadata": {},
   "outputs": [],
   "source": []
  },
  {
   "cell_type": "code",
   "execution_count": null,
   "metadata": {},
   "outputs": [],
   "source": []
  }
 ],
 "metadata": {
  "kernelspec": {
   "display_name": "Python [conda env:JUPYTER] *",
   "language": "python",
   "name": "conda-env-JUPYTER-py"
  },
  "language_info": {
   "codemirror_mode": {
    "name": "ipython",
    "version": 3
   },
   "file_extension": ".py",
   "mimetype": "text/x-python",
   "name": "python",
   "nbconvert_exporter": "python",
   "pygments_lexer": "ipython3",
   "version": "3.8.1"
  }
 },
 "nbformat": 4,
 "nbformat_minor": 4
}
