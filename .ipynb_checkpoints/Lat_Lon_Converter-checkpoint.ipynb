{
 "cells": [
  {
   "cell_type": "code",
   "execution_count": null,
   "metadata": {},
   "outputs": [
    {
     "name": "stderr",
     "output_type": "stream",
     "text": [
      "<ipython-input-6-98b006e0fda8>:32: RuntimeWarning: invalid value encountered in sqrt\n",
      "  Sd = np.sqrt( (42164.0*np.cos(x)*np.cos(y))**2 - (np.cos(y)**2 + 1.006739501*np.sin(y)**2)*1737122264)\n"
     ]
    }
   ],
   "source": [
    "import numpy as np\n",
    "import struct\n",
    "import array\n",
    "import netCDF4 as nc\n",
    "\n",
    "# ----------------------------------------------------------------------\n",
    "# 1. Define function : Full disc GEOS image (Line, Column) -> (Lat, Lon)\n",
    "# (Provided from KMA.)\n",
    "# ----------------------------------------------------------------------\n",
    "def latlon_from_lincol_geos(Resolution, Line, Column):\n",
    "    degtorad = 3.14159265358979 / 180.0\n",
    "    if (Resolution == 0.5):\n",
    "        COFF = 11000.5\n",
    "        CFAC = 8.170135561335742e7\n",
    "        LOFF = 11000.5\n",
    "        LFAC = 8.170135561335742e7\n",
    "    elif (Resolution == 1.0):\n",
    "        COFF = 5500.5\n",
    "        CFAC = 4.0850677806678705e7\n",
    "        LOFF = 5500.5\n",
    "        LFAC = 4.0850677806678705e7\n",
    "    else:\n",
    "        COFF = 2750.5\n",
    "        CFAC = 2.0425338903339352e7\n",
    "        LOFF = 2750.5\n",
    "        LFAC = 2.0425338903339352e7\n",
    "    sub_lon = 128.2 \n",
    "    sub_lon = 128.2 * degtorad\n",
    "    \n",
    "    x= degtorad *( (Column - COFF)*2**16 / CFAC )\n",
    "    y= degtorad *( (Line - LOFF)*2**16 / LFAC )\n",
    "    Sd = np.sqrt( (42164.0*np.cos(x)*np.cos(y))**2 - (np.cos(y)**2 + 1.006739501*np.sin(y)**2)*1737122264)\n",
    "    Sn = (42164.0*np.cos(x)*np.cos(y)-Sd) / (np.cos(y)**2 + 1.006739501*np.sin(y)**2)\n",
    "    S1 = 42164.0 - ( Sn * np.cos(x) * np.cos(y) )\n",
    "    S2 = Sn * ( np.sin(x) * np.cos(y) )\n",
    "    S3 = -Sn * np.sin(y)\n",
    "    Sxy = np.sqrt( ((S1*S1)+(S2*S2)) )\n",
    "    \n",
    "    nlon=(np.arctan(S2/S1)+sub_lon)/degtorad\n",
    "    nlat=np.arctan( ( 1.006739501 *S3)/Sxy)/degtorad\n",
    "    \n",
    "    return (nlat, nlon)\n",
    "\n",
    "# ###############\n",
    "# 1. Main Program \n",
    "#################\n",
    "i = np.arange(0,22000, dtype='f')\n",
    "j = np.arange(0,22000, dtype='f')\n",
    "i,j = np.meshgrid(i,j)\n",
    "\n",
    "(geos_lat, geos_lon) = latlon_from_lincol_geos(0.5, j, i)\n",
    "\n",
    "\n",
    "###################\n",
    "# 2. Write outputs\n",
    "###################\n",
    "output_ncfile = nc.Dataset('./Lat_Lon_1km.nc', 'w', format='NETCDF4')\n",
    "data_lin_max = output_ncfile.createDimension('data_lin_max', 22000)\n",
    "data_col_max = output_ncfile.createDimension('data_col_max', 22000)\n",
    "\n",
    "output_ncfile.createVariable('latitude', np.float64, (\"data_lin_max\",\"data_col_max\",))\n",
    "output_ncfile.createVariable('longitude', np.float64, (\"data_lin_max\",\"data_col_max\",))\n",
    "\n",
    "output_ncfile.variables['latitude'][:]=geos_lat\n",
    "output_ncfile.variables['longitude'][:]=geos_lon\n",
    "\n",
    "output_ncfile.close()\n",
    "print('lucky')"
   ]
  },
  {
   "cell_type": "code",
   "execution_count": null,
   "metadata": {},
   "outputs": [],
   "source": []
  },
  {
   "cell_type": "code",
   "execution_count": null,
   "metadata": {},
   "outputs": [],
   "source": []
  },
  {
   "cell_type": "code",
   "execution_count": null,
   "metadata": {},
   "outputs": [],
   "source": []
  },
  {
   "cell_type": "code",
   "execution_count": null,
   "metadata": {},
   "outputs": [],
   "source": []
  }
 ],
 "metadata": {
  "kernelspec": {
   "display_name": "Python [conda env:JUPYTER] *",
   "language": "python",
   "name": "conda-env-JUPYTER-py"
  },
  "language_info": {
   "codemirror_mode": {
    "name": "ipython",
    "version": 3
   },
   "file_extension": ".py",
   "mimetype": "text/x-python",
   "name": "python",
   "nbconvert_exporter": "python",
   "pygments_lexer": "ipython3",
   "version": "3.8.1"
  }
 },
 "nbformat": 4,
 "nbformat_minor": 4
}
